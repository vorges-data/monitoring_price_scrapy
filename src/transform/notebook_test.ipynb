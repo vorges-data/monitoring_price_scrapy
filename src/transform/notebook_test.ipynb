{
 "cells": [
  {
   "cell_type": "code",
   "execution_count": 47,
   "metadata": {},
   "outputs": [],
   "source": [
    "import pandas as pd\n",
    "import sqlite3\n",
    "from datetime import datetime\n",
    "import re"
   ]
  },
  {
   "cell_type": "code",
   "execution_count": 48,
   "metadata": {},
   "outputs": [],
   "source": [
    "# Path arquivo JSON\n",
    "df = pd.read_json('../../data/data.jsonl', lines=True)\n"
   ]
  },
  {
   "cell_type": "code",
   "execution_count": 49,
   "metadata": {},
   "outputs": [],
   "source": [
    "pd.set_option('display.max_rows', None)\n",
    "pd.set_option('display.max_columns', None)"
   ]
  },
  {
   "cell_type": "code",
   "execution_count": 50,
   "metadata": {},
   "outputs": [],
   "source": [
    "# Adicionar coluna fonte dos dados\n",
    "df['_source'] = \"https://lista.mercadolivre.com.br/notebook#D[A:notebook]\"\n",
    "\n",
    "# Adicionar coluna data de coleta\n",
    "df['_data_coleta'] = datetime.now()"
   ]
  },
  {
   "cell_type": "code",
   "execution_count": 51,
   "metadata": {},
   "outputs": [],
   "source": [
    "# Remover pontos dos valores de preços e converter para inteiros\n",
    "df['new_price_reais'] = df['new_price_reais'].astype(str).str.replace('.', '').astype(float)\n",
    "df['old_price_reais'] = df['old_price_reais'].astype(str).str.replace('.', '').astype(float)\n",
    "df['old_price_centavos'] = df['old_price_centavos'].astype(str).str.replace('.', '').astype(float)\n",
    "\n",
    "# Garantir que todos os preços sejam tratados como float\n",
    "df['new_price_reais'] = pd.to_numeric(df['new_price_reais'], errors='coerce')\n",
    "df['old_price_reais'] = pd.to_numeric(df['old_price_reais'], errors='coerce')\n",
    "df['old_price_centavos'] = pd.to_numeric(df['old_price_centavos'], errors='coerce')\n",
    "df['reviews_rating_number'] = pd.to_numeric(df['reviews_rating_number'], errors='coerce')\n",
    "\n",
    "# Transformar a tipagem das colunas\n",
    "df['old_price_reais'] = df['old_price_reais'].fillna(0).astype(float)\n",
    "df['old_price_centavos'] = df['old_price_centavos'].fillna(0).astype(float)\n",
    "df['new_price_reais'] = df['new_price_reais'].fillna(0).astype(float)\n",
    "#df['new_price_centavos'] = df['new_price_centavos'].fillna(0).astype(float) # Não há notebook com centavos no preço\n",
    "df['reviews_rating_number'] = df['reviews_rating_number'].fillna(0).astype(float)\n",
    "\n",
    "# Remover os parenteses do reviews_amount\n",
    "df['reviews_amount'] = df['reviews_amount'].str.replace('[\\(\\)]', '', regex=True)\n",
    "df['reviews_amount'] = df['reviews_amount'].fillna(0).astype(int)\n",
    "\n",
    "# Tratar os preços\n",
    "df['old_price'] = df['old_price_reais'] + df['old_price_centavos'] / 100\n",
    "#df['new_price'] = df['new_price_reais'] + df['new_price_centavos'] / 100 # Não há notebook com centavos no preço\n",
    "\n",
    "# Remover as colunas de preço antigas\n",
    "df = df.drop(columns=['old_price_reais', 'old_price_centavos'])\n",
    "\n",
    "# Calcular percentual de desconto\n",
    "df['discount_percentage'] = df.apply(\n",
    "    lambda row: round(((row['old_price'] - row['new_price_reais']) / row['old_price']) * 100, 2)\n",
    "    if row['old_price'] not in [None, 0] else 0,\n",
    "    axis=1\n",
    ")\n",
    "\n",
    "# Definir lista de marcas conhecidas\n",
    "marcas = ['Apple', 'Samsung', 'Dell', 'Asus', 'Lenovo', 'HP', 'Acer', 'Microsoft', 'Toshiba', 'Sony', 'MSI', 'Razer','LG','Huawei','Xiaomi','Google','Panasonic','Vaio','Positivo','Multilaser']\n",
    "\n",
    "# Função para extrair a marca do notebook\n",
    "def extrair_marca(brand_name):\n",
    "    for marca in marcas:\n",
    "        if re.search(marca, brand_name, re.IGNORECASE):\n",
    "            return marca\n",
    "    return 'Outras'\n",
    "\n",
    "# Aplicar a função ao DataFrame\n",
    "df['marca'] = df['brand'].apply(extrair_marca)"
   ]
  },
  {
   "cell_type": "code",
   "execution_count": 52,
   "metadata": {},
   "outputs": [],
   "source": [
    "def categorize_discount(row):\n",
    "    if row['discount_percentage'] == 0:\n",
    "        return 'Sem desconto'\n",
    "    elif 0 < row['discount_percentage'] <= 10:\n",
    "        return 'Até 10%'\n",
    "    elif 11 <= row['discount_percentage'] <= 20:\n",
    "        return '11% a 20%'\n",
    "    elif 21 <= row['discount_percentage'] <= 30:\n",
    "        return '21% a 30%'\n",
    "    elif 31 <= row['discount_percentage'] <= 40:\n",
    "        return '31% a 40%'\n",
    "    elif 41 <= row['discount_percentage'] <= 50:\n",
    "        return '41% a 50%'\n",
    "    else:\n",
    "        return 'Acima de 50%'\n",
    "\n",
    "# Criar a nova coluna com as faixas de desconto\n",
    "df['discount_range'] = df.apply(categorize_discount, axis=1)\n",
    "\n",
    "# Criar a nova coluna com as faixas de desconto\n",
    "df['discount_range'] = df.apply(categorize_discount, axis=1)"
   ]
  },
  {
   "cell_type": "markdown",
   "metadata": {},
   "source": [
    "### Sqlite"
   ]
  },
  {
   "cell_type": "code",
   "execution_count": null,
   "metadata": {},
   "outputs": [],
   "source": [
    "# Conectar ao banco de dados\n",
    "conn = sqlite3.connect('../../data/price_notebooks_ml.db')\n",
    "\n",
    "# Salvar o dataframe no banco de dados\n",
    "df.to_sql('mercadolivre_items', conn, if_exists='replace', index=False)\n",
    "\n",
    "# Fechar a conexão\n",
    "conn.close()"
   ]
  }
 ],
 "metadata": {
  "kernelspec": {
   "display_name": "price-monitoring-_UNR4Fpd-py3.10",
   "language": "python",
   "name": "python3"
  },
  "language_info": {
   "codemirror_mode": {
    "name": "ipython",
    "version": 3
   },
   "file_extension": ".py",
   "mimetype": "text/x-python",
   "name": "python",
   "nbconvert_exporter": "python",
   "pygments_lexer": "ipython3",
   "version": "3.10.12"
  }
 },
 "nbformat": 4,
 "nbformat_minor": 2
}
