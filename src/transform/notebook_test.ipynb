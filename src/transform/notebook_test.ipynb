{
 "cells": [
  {
   "cell_type": "code",
   "execution_count": 1,
   "metadata": {},
   "outputs": [],
   "source": [
    "import pandas as pd\n",
    "import sqlite3\n",
    "from datetime import datetime\n",
    "import re\n",
    "import os"
   ]
  },
  {
   "cell_type": "code",
   "execution_count": 10,
   "metadata": {},
   "outputs": [],
   "source": [
    "# Path arquivo JSON\n",
    "df = pd.read_json('../../data/data.jsonl', lines=True)\n"
   ]
  },
  {
   "cell_type": "code",
   "execution_count": 11,
   "metadata": {},
   "outputs": [],
   "source": [
    "pd.set_option('display.max_rows', None)\n",
    "pd.set_option('display.max_columns', None)"
   ]
  },
  {
   "cell_type": "code",
   "execution_count": 12,
   "metadata": {},
   "outputs": [],
   "source": [
    "# Adicionar coluna fonte dos dados\n",
    "df['_source'] = \"https://lista.mercadolivre.com.br/notebook#D[A:notebook]\"\n",
    "\n",
    "# Adicionar coluna data de coleta\n",
    "df['_data_coleta'] = datetime.now()"
   ]
  },
  {
   "cell_type": "code",
   "execution_count": 13,
   "metadata": {},
   "outputs": [],
   "source": [
    "# Remover pontos dos valores de preços e converter para inteiros\n",
    "df['new_price_reais'] = df['new_price_reais'].astype(str).str.replace('.', '').astype(float)\n",
    "df['old_price_reais'] = df['old_price_reais'].astype(str).str.replace('.', '').astype(float)\n",
    "df['old_price_centavos'] = df['old_price_centavos'].astype(str).str.replace('.', '').astype(float)\n",
    "\n",
    "# Garantir que todos os preços sejam tratados como float\n",
    "df['new_price_reais'] = pd.to_numeric(df['new_price_reais'], errors='coerce')\n",
    "df['old_price_reais'] = pd.to_numeric(df['old_price_reais'], errors='coerce')\n",
    "df['old_price_centavos'] = pd.to_numeric(df['old_price_centavos'], errors='coerce')\n",
    "df['reviews_rating_number'] = pd.to_numeric(df['reviews_rating_number'], errors='coerce')\n",
    "\n",
    "# Transformar a tipagem das colunas\n",
    "df['old_price_reais'] = df['old_price_reais'].fillna(0).astype(float)\n",
    "df['old_price_centavos'] = df['old_price_centavos'].fillna(0).astype(float)\n",
    "df['new_price_reais'] = df['new_price_reais'].fillna(0).astype(float)\n",
    "#df['new_price_centavos'] = df['new_price_centavos'].fillna(0).astype(float) # Não há notebook com centavos no preço\n",
    "df['reviews_rating_number'] = df['reviews_rating_number'].fillna(0).astype(float)\n",
    "\n",
    "# Remover os parenteses do reviews_amount\n",
    "df['reviews_amount'] = df['reviews_amount'].str.replace('[\\(\\)]', '', regex=True)\n",
    "df['reviews_amount'] = df['reviews_amount'].fillna(0).astype(int)\n",
    "\n",
    "# Tratar os preços\n",
    "df['old_price'] = df['old_price_reais'] + df['old_price_centavos'] / 100\n",
    "#df['new_price'] = df['new_price_reais'] + df['new_price_centavos'] / 100 # Não há notebook com centavos no preço\n",
    "\n",
    "# Remover as colunas de preço antigas\n",
    "df = df.drop(columns=['old_price_reais', 'old_price_centavos'])\n",
    "\n",
    "# Calcular percentual de desconto\n",
    "df['discount_percentage'] = df.apply(\n",
    "    lambda row: round(((row['old_price'] - row['new_price_reais']) / row['old_price']) * 100, 2)\n",
    "    if row['old_price'] not in [None, 0] else 0,\n",
    "    axis=1\n",
    ")\n",
    "\n",
    "# Definir lista de marcas conhecidas\n",
    "marcas = ['Apple', 'Samsung', 'Dell', 'Asus', 'Lenovo', 'HP', 'Acer', 'Microsoft', 'Toshiba', 'Sony', 'MSI', 'Razer','LG','Huawei','Xiaomi','Google','Panasonic','Vaio','Positivo','Multilaser']\n",
    "\n",
    "# Função para extrair a marca do notebook\n",
    "def extrair_marca(brand_name):\n",
    "    for marca in marcas:\n",
    "        if re.search(marca, brand_name, re.IGNORECASE):\n",
    "            return marca\n",
    "    return 'Outras'\n",
    "\n",
    "# Aplicar a função ao DataFrame\n",
    "df['marca'] = df['brand'].apply(extrair_marca)"
   ]
  },
  {
   "cell_type": "code",
   "execution_count": 14,
   "metadata": {},
   "outputs": [],
   "source": [
    "def categorize_discount(row):\n",
    "    if row['discount_percentage'] == 0:\n",
    "        return 'Sem desconto'\n",
    "    elif 0 < row['discount_percentage'] <= 10:\n",
    "        return 'Até 10%'\n",
    "    elif 11 <= row['discount_percentage'] <= 20:\n",
    "        return '11% a 20%'\n",
    "    elif 21 <= row['discount_percentage'] <= 30:\n",
    "        return '21% a 30%'\n",
    "    elif 31 <= row['discount_percentage'] <= 40:\n",
    "        return '31% a 40%'\n",
    "    elif 41 <= row['discount_percentage'] <= 50:\n",
    "        return '41% a 50%'\n",
    "    else:\n",
    "        return 'Acima de 50%'\n",
    "\n",
    "# Criar a nova coluna com as faixas de desconto\n",
    "df['discount_range'] = df.apply(categorize_discount, axis=1)\n",
    "\n",
    "# Criar a nova coluna com as faixas de desconto\n",
    "df['discount_range'] = df.apply(categorize_discount, axis=1)"
   ]
  },
  {
   "cell_type": "markdown",
   "metadata": {},
   "source": [
    "### Reordenando as colunas"
   ]
  },
  {
   "cell_type": "code",
   "execution_count": 15,
   "metadata": {},
   "outputs": [],
   "source": [
    "nova_ordem = ['brand','marca','old_price','new_price_reais','discount_percentage','discount_range','reviews_amount','reviews_rating_number','supplier','installments','product_url','img_product_url','_source','_data_coleta']\n",
    "\n",
    "df = df[nova_ordem]"
   ]
  },
  {
   "cell_type": "code",
   "execution_count": 16,
   "metadata": {},
   "outputs": [
    {
     "data": {
      "text/html": [
       "<div>\n",
       "<style scoped>\n",
       "    .dataframe tbody tr th:only-of-type {\n",
       "        vertical-align: middle;\n",
       "    }\n",
       "\n",
       "    .dataframe tbody tr th {\n",
       "        vertical-align: top;\n",
       "    }\n",
       "\n",
       "    .dataframe thead th {\n",
       "        text-align: right;\n",
       "    }\n",
       "</style>\n",
       "<table border=\"1\" class=\"dataframe\">\n",
       "  <thead>\n",
       "    <tr style=\"text-align: right;\">\n",
       "      <th></th>\n",
       "      <th>brand</th>\n",
       "      <th>marca</th>\n",
       "      <th>old_price</th>\n",
       "      <th>new_price_reais</th>\n",
       "      <th>discount_percentage</th>\n",
       "      <th>discount_range</th>\n",
       "      <th>reviews_amount</th>\n",
       "      <th>reviews_rating_number</th>\n",
       "      <th>supplier</th>\n",
       "      <th>installments</th>\n",
       "      <th>product_url</th>\n",
       "      <th>img_product_url</th>\n",
       "      <th>_source</th>\n",
       "      <th>_data_coleta</th>\n",
       "    </tr>\n",
       "  </thead>\n",
       "  <tbody>\n",
       "    <tr>\n",
       "      <th>1386</th>\n",
       "      <td>Notebook Lenovo Thinkpad T495 Ryzen 5 Pro Ram ...</td>\n",
       "      <td>Lenovo</td>\n",
       "      <td>2497.0</td>\n",
       "      <td>2272.0</td>\n",
       "      <td>9.01</td>\n",
       "      <td>Até 10%</td>\n",
       "      <td>0</td>\n",
       "      <td>0.0</td>\n",
       "      <td>None</td>\n",
       "      <td>10x</td>\n",
       "      <td>https://produto.mercadolivre.com.br/MLB-365121...</td>\n",
       "      <td>https://http2.mlstatic.com/D_NQ_NP_657253-MLB7...</td>\n",
       "      <td>https://lista.mercadolivre.com.br/notebook#D[A...</td>\n",
       "      <td>2024-05-25 17:17:56.026680</td>\n",
       "    </tr>\n",
       "    <tr>\n",
       "      <th>577</th>\n",
       "      <td>Dell Latitude 3490 Core I5-8250 1.6ghz 8 Gb Ra...</td>\n",
       "      <td>Dell</td>\n",
       "      <td>0.0</td>\n",
       "      <td>2299.0</td>\n",
       "      <td>0.00</td>\n",
       "      <td>Sem desconto</td>\n",
       "      <td>0</td>\n",
       "      <td>0.0</td>\n",
       "      <td>None</td>\n",
       "      <td>10x</td>\n",
       "      <td>https://produto.mercadolivre.com.br/MLB-351099...</td>\n",
       "      <td>https://http2.mlstatic.com/D_NQ_NP_613979-MLB7...</td>\n",
       "      <td>https://lista.mercadolivre.com.br/notebook#D[A...</td>\n",
       "      <td>2024-05-25 17:17:56.026680</td>\n",
       "    </tr>\n",
       "    <tr>\n",
       "      <th>1398</th>\n",
       "      <td>Notebook Vaio Fe15 Amd Ryzen 5 Windows 11 Home...</td>\n",
       "      <td>Vaio</td>\n",
       "      <td>3899.0</td>\n",
       "      <td>3099.0</td>\n",
       "      <td>20.52</td>\n",
       "      <td>Acima de 50%</td>\n",
       "      <td>6</td>\n",
       "      <td>4.3</td>\n",
       "      <td>por AMD</td>\n",
       "      <td>10x</td>\n",
       "      <td>https://www.mercadolivre.com.br/notebook-vaio-...</td>\n",
       "      <td>https://http2.mlstatic.com/D_NQ_NP_954859-MLU7...</td>\n",
       "      <td>https://lista.mercadolivre.com.br/notebook#D[A...</td>\n",
       "      <td>2024-05-25 17:17:56.026680</td>\n",
       "    </tr>\n",
       "  </tbody>\n",
       "</table>\n",
       "</div>"
      ],
      "text/plain": [
       "                                                  brand   marca  old_price  \\\n",
       "1386  Notebook Lenovo Thinkpad T495 Ryzen 5 Pro Ram ...  Lenovo     2497.0   \n",
       "577   Dell Latitude 3490 Core I5-8250 1.6ghz 8 Gb Ra...    Dell        0.0   \n",
       "1398  Notebook Vaio Fe15 Amd Ryzen 5 Windows 11 Home...    Vaio     3899.0   \n",
       "\n",
       "      new_price_reais  discount_percentage discount_range  reviews_amount  \\\n",
       "1386           2272.0                 9.01        Até 10%               0   \n",
       "577            2299.0                 0.00   Sem desconto               0   \n",
       "1398           3099.0                20.52   Acima de 50%               6   \n",
       "\n",
       "      reviews_rating_number supplier installments  \\\n",
       "1386                    0.0     None          10x   \n",
       "577                     0.0     None          10x   \n",
       "1398                    4.3  por AMD          10x   \n",
       "\n",
       "                                            product_url  \\\n",
       "1386  https://produto.mercadolivre.com.br/MLB-365121...   \n",
       "577   https://produto.mercadolivre.com.br/MLB-351099...   \n",
       "1398  https://www.mercadolivre.com.br/notebook-vaio-...   \n",
       "\n",
       "                                        img_product_url  \\\n",
       "1386  https://http2.mlstatic.com/D_NQ_NP_657253-MLB7...   \n",
       "577   https://http2.mlstatic.com/D_NQ_NP_613979-MLB7...   \n",
       "1398  https://http2.mlstatic.com/D_NQ_NP_954859-MLU7...   \n",
       "\n",
       "                                                _source  \\\n",
       "1386  https://lista.mercadolivre.com.br/notebook#D[A...   \n",
       "577   https://lista.mercadolivre.com.br/notebook#D[A...   \n",
       "1398  https://lista.mercadolivre.com.br/notebook#D[A...   \n",
       "\n",
       "                   _data_coleta  \n",
       "1386 2024-05-25 17:17:56.026680  \n",
       "577  2024-05-25 17:17:56.026680  \n",
       "1398 2024-05-25 17:17:56.026680  "
      ]
     },
     "execution_count": 16,
     "metadata": {},
     "output_type": "execute_result"
    }
   ],
   "source": [
    "df.sample(3)"
   ]
  },
  {
   "cell_type": "code",
   "execution_count": 31,
   "metadata": {},
   "outputs": [
    {
     "name": "stdout",
     "output_type": "stream",
     "text": [
      "Arquivo existe: False\n",
      "Permissão de leitura: False\n",
      "Permissão de escrita: False\n"
     ]
    }
   ],
   "source": [
    "import os\n",
    "\n",
    "\n",
    "# Verificar se o arquivo existe\n",
    "db_path = '/data/price_notebooks_ml.db'\n",
    "print(f\"Arquivo existe: {os.path.exists(db_path)}\")\n",
    "\n",
    "# Verificar permissões de leitura e escrita\n",
    "print(f\"Permissão de leitura: {os.access(db_path, os.R_OK)}\")\n",
    "print(f\"Permissão de escrita: {os.access(db_path, os.W_OK)}\")\n"
   ]
  }
 ],
 "metadata": {
  "kernelspec": {
   "display_name": "price-monitoring-_UNR4Fpd-py3.10",
   "language": "python",
   "name": "python3"
  },
  "language_info": {
   "codemirror_mode": {
    "name": "ipython",
    "version": 3
   },
   "file_extension": ".py",
   "mimetype": "text/x-python",
   "name": "python",
   "nbconvert_exporter": "python",
   "pygments_lexer": "ipython3",
   "version": "3.10.12"
  }
 },
 "nbformat": 4,
 "nbformat_minor": 2
}
